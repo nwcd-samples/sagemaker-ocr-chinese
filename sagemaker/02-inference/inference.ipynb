{
 "cells": [
  {
   "cell_type": "code",
   "execution_count": null,
   "metadata": {},
   "outputs": [],
   "source": [
    "import boto3\n",
    "import sagemaker\n",
    "import os\n",
    "from sagemaker import get_execution_role\n",
    "\n",
    "region = boto3.session.Session().region_name\n",
    "role = get_execution_role()\n",
    "\n",
    "# 如果在自建EC2无法获取role， 可以手动复制 role\n",
    "#  role = arn:aws-cn:iam::账户id:role/service-role/AmazonSageMaker-ExecutionRole-20200430T123312"
   ]
  },
  {
   "cell_type": "markdown",
   "metadata": {},
   "source": [
    "#### 镜像使用说明\n",
    "\n",
    "本次使用的镜像  727897471807.dkr.ecr.cn-northwest-1.amazonaws.com.cn/pytorch-inference:1.5.0-gpu-py36-cu101-ubuntu16.04\n",
    "\n",
    "[可使用的Docker镜像列表](https://aws.amazon.com/cn/releasenotes/available-deep-learning-containers-images/) "
   ]
  },
  {
   "cell_type": "markdown",
   "metadata": {},
   "source": [
    "## 第一步 创建ECR "
   ]
  },
  {
   "cell_type": "code",
   "execution_count": null,
   "metadata": {},
   "outputs": [],
   "source": [
    "# Run this cell only onece to create the repository in ECR\n",
    "import boto3\n",
    "\n",
    "account_id = boto3.client('sts').get_caller_identity().get('Account')\n",
    "ecr_repository = 'ocr-inference-container'\n",
    "tag = ':latest'\n",
    "uri_suffix = 'amazonaws.com'\n",
    "if region in ['cn-north-1', 'cn-northwest-1']:\n",
    "    uri_suffix = 'amazonaws.com.cn'\n",
    "inference_repository_uri = '{}.dkr.ecr.{}.{}/{}'.format(account_id, region, uri_suffix, ecr_repository + tag)\n",
    "print(inference_repository_uri)\n",
    "ecr = '{}.dkr.ecr.{}.{}'.format(account_id, region, uri_suffix)\n",
    "\n"
   ]
  },
  {
   "cell_type": "markdown",
   "metadata": {},
   "source": [
    "*  第一次需要创建 ECR仓库"
   ]
  },
  {
   "cell_type": "code",
   "execution_count": null,
   "metadata": {},
   "outputs": [],
   "source": [
    "!aws ecr create-repository --repository-name $ecr_repository"
   ]
  },
  {
   "cell_type": "markdown",
   "metadata": {},
   "source": [
    "## 第二步 构建镜像"
   ]
  },
  {
   "cell_type": "code",
   "execution_count": null,
   "metadata": {},
   "outputs": [],
   "source": [
    "inference_repository_uri"
   ]
  },
  {
   "cell_type": "markdown",
   "metadata": {},
   "source": [
    "### Build and push"
   ]
  },
  {
   "cell_type": "markdown",
   "metadata": {},
   "source": [
    "*  不需要修改账号Id  727897471807 是官方id, 下载官方镜像使用"
   ]
  },
  {
   "cell_type": "code",
   "execution_count": null,
   "metadata": {},
   "outputs": [],
   "source": [
    "!aws ecr get-login-password --region cn-northwest-1 | docker login --username AWS --password-stdin 727897471807.dkr.ecr.cn-northwest-1.amazonaws.com.cn"
   ]
  },
  {
   "cell_type": "code",
   "execution_count": null,
   "metadata": {
    "scrolled": true
   },
   "outputs": [],
   "source": [
    "%%time\n",
    "!aws ecr get-login-password --region $region | docker login --username AWS --password-stdin $ecr\n",
    "\n",
    "# Create ECR repository and push docker image\n",
    "!docker rmi -f $inference_repository_uri\n",
    "!docker build -t $ecr_repository ./\n",
    "\n",
    "!docker tag {ecr_repository + tag} $inference_repository_uri\n",
    "!docker push $inference_repository_uri"
   ]
  },
  {
   "cell_type": "markdown",
   "metadata": {},
   "source": [
    "将现有镜像下载到本地，并推送到自己的ECR库中"
   ]
  },
  {
   "cell_type": "markdown",
   "metadata": {},
   "source": [
    "### 注意\n",
    "\n",
    "**将如下model_uri改为在training阶段得到的模型在S3中的path，形式为s3://YOUR_BUCKET/sagemaker-ocr-chinese/output/-x-x-x-x-x-x-x/output/model.tar.gz**， \n",
    "可以在console找到该训练任务，在该训练任务的描述页面中，找到“S3 模型构件”，复制即可。"
   ]
  },
  {
   "cell_type": "code",
   "execution_count": 16,
   "metadata": {},
   "outputs": [],
   "source": [
    "image = inference_repository_uri\n",
    "\n",
    "#FIXME: 根据train 生成的模型， 替换下面的url\n",
    "model_uri = 's3://YOUR_BUCKET/sagemaker-ocr-chinese/output/-x-x-x-x-x-x-x/output/model.tar.gz'"
   ]
  },
  {
   "cell_type": "markdown",
   "metadata": {},
   "source": [
    "## 测试文件格式说明\n",
    "\n",
    "**即发送推理请求前，先将待推理的图片文件上传到S3**\n",
    "\n",
    "推理请求的结构是发送一个json结构体，json结构体里面描述：\n",
    "\n",
    "bucket: 存储桶\n",
    "\n",
    "image_uri:待推理数据的uri，不含桶名\n",
    "\n",
    "**s3://dikers-public/sagemaker-ocr-chinese/test-images/test01.jpg**\n",
    "\n",
    "```\n",
    "{\"bucket\": \"dikers-public\", \"image_uri\": \"sagemaker-ocr-chinese/test-images/test01.jpg\"}\n",
    "```\n"
   ]
  },
  {
   "cell_type": "markdown",
   "metadata": {},
   "source": [
    "\n",
    "<img style=\"width:400px;height:250px\" src=\"https://dikers-public.s3.cn-northwest-1.amazonaws.com.cn/sagemaker-ocr-chinese/test-images/test-ocr.jpg\" />"
   ]
  },
  {
   "cell_type": "code",
   "execution_count": null,
   "metadata": {},
   "outputs": [],
   "source": [
    "import json\n",
    "bucket = 'dikers-public'\n",
    "image_uri = 'sagemaker-ocr-chinese/test-images/test01.jpg'\n",
    "\n",
    "test_data = {\n",
    "    'bucket' : bucket,\n",
    "    'image_uri' : image_uri\n",
    "}\n",
    "payload = json.dumps(test_data)\n",
    "print(payload)"
   ]
  },
  {
   "cell_type": "markdown",
   "metadata": {},
   "source": [
    "## 第三步 创建Endpoint "
   ]
  },
  {
   "cell_type": "markdown",
   "metadata": {},
   "source": [
    "### Method 1: Using sagemaker SDK"
   ]
  },
  {
   "cell_type": "code",
   "execution_count": null,
   "metadata": {},
   "outputs": [],
   "source": [
    "# 创建 model\n",
    "# Below could be modified as you want\n",
    "\n",
    "initial_instance_count = 1\n",
    "instance_type = 'ml.m5.large'\n",
    "endpoint_name= 'ocr-endpoint'\n",
    "\n",
    "from sagemaker.model import Model\n",
    "image = inference_repository_uri\n",
    "model = Model(\n",
    "            model_data=model_uri, \n",
    "            role=role,\n",
    "            env={'test':'abc'},\n",
    "            image=image)"
   ]
  },
  {
   "cell_type": "code",
   "execution_count": null,
   "metadata": {},
   "outputs": [],
   "source": [
    "%%time\n",
    "\n",
    "model.deploy(\n",
    "    initial_instance_count=initial_instance_count,\n",
    "    instance_type=instance_type,\n",
    "    endpoint_name=endpoint_name)"
   ]
  },
  {
   "cell_type": "markdown",
   "metadata": {},
   "source": [
    "###  Method 1 客户端调用"
   ]
  },
  {
   "cell_type": "code",
   "execution_count": null,
   "metadata": {},
   "outputs": [],
   "source": [
    "# 创建推理用的 predictor\n",
    "\n",
    "new_predictor = sagemaker.predictor.RealTimePredictor(\n",
    "    endpoint=endpoint_name,\n",
    "    content_type='application/json')"
   ]
  },
  {
   "cell_type": "code",
   "execution_count": null,
   "metadata": {},
   "outputs": [],
   "source": [
    "%%time\n",
    "# 推理请求代码\n",
    "\n",
    "new_sm_response = new_predictor.predict(payload)\n",
    "\n",
    "print(json.loads(new_sm_response.decode()))"
   ]
  },
  {
   "cell_type": "markdown",
   "metadata": {},
   "source": [
    "### Method 2: Using boto3 SDK"
   ]
  },
  {
   "cell_type": "code",
   "execution_count": null,
   "metadata": {},
   "outputs": [],
   "source": [
    "# Below could be modified as you want\n",
    "\n",
    "model_name = 'ocr-demo'\n",
    "endpoint_config_name='ocr-endpoint-config'\n",
    "variant_name= 'ocr-endpoint-vn'\n",
    "initial_instance_count = 1\n",
    "instance_type = 'ml.m5.large'\n",
    "endpoint_name= 'endpoint_config_name'"
   ]
  },
  {
   "cell_type": "code",
   "execution_count": null,
   "metadata": {},
   "outputs": [],
   "source": [
    "import boto3\n",
    "\n",
    "sm_client = boto3.client('sagemaker')\n",
    "\n",
    "# create model object\n",
    "\n",
    "spl_model_demo = sm_client.create_model(\n",
    "    ModelName=model_name,\n",
    "    PrimaryContainer={\n",
    "        'Image': image,\n",
    "        'Mode': 'SingleModel',\n",
    "        'ModelDataUrl': model_uri,\n",
    "    },\n",
    "    ExecutionRoleArn= role, \n",
    "    EnableNetworkIsolation=False\n",
    ")"
   ]
  },
  {
   "cell_type": "code",
   "execution_count": null,
   "metadata": {
    "scrolled": true
   },
   "outputs": [],
   "source": [
    "# create endpoint config\n",
    "\n",
    "spl_endpoint_config = sm_client.create_endpoint_config(\n",
    "    EndpointConfigName=endpoint_config_name,\n",
    "    ProductionVariants=[\n",
    "        {\n",
    "            'VariantName': variant_name,\n",
    "            'ModelName': model_name,\n",
    "            'InitialInstanceCount': initial_instance_count,\n",
    "            'InstanceType': instance_type\n",
    "        },\n",
    "    ]\n",
    ")"
   ]
  },
  {
   "cell_type": "code",
   "execution_count": null,
   "metadata": {},
   "outputs": [],
   "source": [
    "# create endpoint\n",
    "\n",
    "response = sm_client.create_endpoint(\n",
    "    EndpointName=endpoint_name,\n",
    "    EndpointConfigName=endpoint_config_name\n",
    ")"
   ]
  },
  {
   "cell_type": "markdown",
   "metadata": {},
   "source": [
    "待上一步创建完成后再进行下面的发送推理请求。上面创建endpoint的时间大概10分钟左右，可以在console查看状态，inservice即可使用了。\n",
    "\n",
    "###  Method 2 客户端调用"
   ]
  },
  {
   "cell_type": "code",
   "execution_count": null,
   "metadata": {},
   "outputs": [],
   "source": [
    "import boto3\n",
    "import json\n",
    "import time\n",
    "\n",
    "region_name='cn-northwest-1'\n",
    "profile_name='default'\n",
    "\n",
    "session = boto3.session.Session(region_name=region_name, profile_name=profile_name)\n",
    "client = session.client('sagemaker-runtime')\n",
    "\n",
    "start_time = time.time()\n",
    "spl_response=client.invoke_endpoint(EndpointName=endpoint_name,\n",
    "        Body=payload,\n",
    "        ContentType='application/json')\n",
    "end_time = time.time()\n",
    "\n",
    "print('time cost %s s' %(end_time - start_time))\n",
    "print(json.loads(spl_response['Body'].read().decode()))"
   ]
  },
  {
   "cell_type": "code",
   "execution_count": null,
   "metadata": {},
   "outputs": [],
   "source": []
  }
 ],
 "metadata": {
  "instance_type": "ml.g4dn.xlarge",
  "kernelspec": {
   "display_name": "conda_pytorch_p36",
   "language": "python",
   "name": "conda_pytorch_p36"
  },
  "language_info": {
   "codemirror_mode": {
    "name": "ipython",
    "version": 3
   },
   "file_extension": ".py",
   "mimetype": "text/x-python",
   "name": "python",
   "nbconvert_exporter": "python",
   "pygments_lexer": "ipython3",
   "version": "3.6.10"
  }
 },
 "nbformat": 4,
 "nbformat_minor": 4
}

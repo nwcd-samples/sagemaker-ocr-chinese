{
 "cells": [
  {
   "cell_type": "markdown",
   "metadata": {},
   "source": [
    "# OCR文字识别训练"
   ]
  },
  {
   "cell_type": "code",
   "execution_count": null,
   "metadata": {},
   "outputs": [],
   "source": [
    "import sagemaker\n",
    "from sagemaker import get_execution_role\n",
    "sagemaker_session = sagemaker.Session()\n",
    "\n",
    "#FIXME: 修改自己的S3 bucket名称\n",
    "bucket = 'YOUR_BUCKET'\n",
    "prefix = 'sagemaker-ocr-chinese'\n",
    "role = get_execution_role()\n",
    "# 如果在自建EC2无法获取role， 可以手动复制 role\n",
    "#  role = arn:aws-cn:iam::账户id:role/service-role/AmazonSageMaker-ExecutionRole-20200430T123312\n",
    "\n",
    "target_s3_uri = 's3://{}/{}/'.format(bucket, prefix)"
   ]
  },
  {
   "cell_type": "markdown",
   "metadata": {},
   "source": [
    "## 准备训练数据\n",
    "\n",
    "#### 一 使用Demo数据 \n",
    "\n"
   ]
  },
  {
   "cell_type": "code",
   "execution_count": null,
   "metadata": {},
   "outputs": [],
   "source": [
    "!aws s3 sync s3://dikers-public/sagemaker-ocr-chinese/ $target_s3_uri"
   ]
  },
  {
   "cell_type": "markdown",
   "metadata": {},
   "source": [
    "\n",
    "#### 二  自己生成数据  \n",
    "\n",
    "\n",
    "*  第一步  生成小图片    [参考代码](https://github.com/dikers/ocr-text-renderer)\n",
    "\n",
    "\n",
    "\n",
    "```\n",
    "# 生成图片和  label文件\n",
    "# label 文件格式  前面是图片的路径， 后面是对应的gt\n",
    "00000000.jpg F六G七H八I九J十\n",
    "00000001.jpg e六f七g八h九i十\n",
    "00000002.jpg W千X一Y二Z三?!\n",
    "00000003.jpg t七u八v九w十x百\n",
    "00000004.jpg 四P五Q六R七S八T\n",
    "00000005.jpg Y二Z三?!@#%\n",
    "00000006.jpg d五e六f七g八h九\n",
    "00000007.jpg ,.A一B二C三D四\n",
    "00000008.jpg p三q四r五s六t七\n",
    "00000009.jpg 六t七u八v九w十x\n",
    "```\n",
    "\n",
    "*  第二步  请文件划分成 train.txt  valid.txt\n",
    "\n",
    "```\n",
    "head -n 10000 labels.txt > train.txt\n",
    "\n",
    "tail -n 1000 labels.txt  >  valid.txt\n",
    "```\n",
    "\n",
    "\n",
    "* 第三步  将图片转换成mdb格式的文件\n",
    "\n",
    "\n",
    "```\n",
    "# 运行脚本\n",
    "cd data_generate\n",
    "sh create-lmdb.sh\n",
    "\n",
    "```\n",
    "\n",
    "\n",
    "```\n",
    "# 修改脚本的路径\n",
    "python3 create_lmdb_dataset.py --inputPath images_path/ \\\n",
    "--gtFile valid.txt \\\n",
    "--outputPath ./output/valid\n",
    "\n",
    "python3 create_lmdb_dataset.py --inputPath images_path/  \\\n",
    "--gtFile train.txt \\\n",
    "--outputPath ./output/train\n",
    "```\n"
   ]
  },
  {
   "cell_type": "markdown",
   "metadata": {},
   "source": [
    "*  第四步 上传数据到S3"
   ]
  },
  {
   "cell_type": "code",
   "execution_count": null,
   "metadata": {},
   "outputs": [],
   "source": [
    "\"\"\"\n",
    "inputs = sagemaker_session.upload_data(path='文件路径', bucket=bucket, key_prefix=prefix)\n",
    "print('input spec (in this case, just an S3 path): {}'.format(inputs))\n",
    "\"\"\""
   ]
  },
  {
   "cell_type": "markdown",
   "metadata": {},
   "source": [
    "可以包含多个训练数据， 本地数据格式如下： \n",
    "```\n",
    ".\n",
    "├── train\n",
    "│   ├── db1\n",
    "│   │   ├── data.mdb\n",
    "│   │   └── lock.mdb\n",
    "│   └── db2\n",
    "│       ├── data.mdb\n",
    "│       └── lock.mdb\n",
    "└── valid\n",
    "    ├── db1\n",
    "    │   ├── data.mdb\n",
    "    │   └── lock.mdb\n",
    "    └── db2\n",
    "        ├── data.mdb\n",
    "        └── lock.mdb\n",
    "\n",
    "```\n",
    "\n",
    "对应服务器的路径\n",
    "```\n",
    "'train_data': '/opt/ml/input/data/training/train',\n",
    "'valid_data': '/opt/ml/input/data/training/valid',\n",
    "\n",
    "'select_data': 'db1-db2',    # 训练数据的名称\n",
    "'batch_ratio': '0.5-0.5',    # 训练数据对应的比率\n",
    "\n",
    "```"
   ]
  },
  {
   "cell_type": "markdown",
   "metadata": {},
   "source": [
    "上传的到S3的路径   \n",
    "```\n",
    "   s3://YOUR_BUCKET/sagemaker-ocr-chinese/\n",
    "                        ├── train\n",
    "                        │   ├── db1\n",
    "                        │   │   ├── data.mdb\n",
    "                        │   │   └── lock.mdb\n",
    "                        │   └── db2\n",
    "                        │       ├── data.mdb\n",
    "                        │       └── lock.mdb\n",
    "                        └── valid\n",
    "                            ├── db1\n",
    "                            │   ├── data.mdb\n",
    "                            │   └── lock.mdb\n",
    "                            └── db2\n",
    "                                ├── data.mdb\n",
    "                                └── lock.mdb\n",
    "\n",
    "```"
   ]
  },
  {
   "cell_type": "markdown",
   "metadata": {},
   "source": [
    "## Run training in SageMaker\n",
    "\n"
   ]
  },
  {
   "cell_type": "markdown",
   "metadata": {},
   "source": [
    "可以修改的参数\n",
    "```\n",
    "'select_data': 'db1-db2',   # 训练的数据\n",
    "'batch_ratio': '0.5-0.5',   # 数据比率\n",
    "'batch_size': 160,          # batch_size.  \n",
    "'num_iter': 1000,           # 训练次数\n",
    "'valInterval': 100,         # 显示valid 准确率\n",
    "```\n",
    "更多参数请查看 `source/train.py`"
   ]
  },
  {
   "cell_type": "code",
   "execution_count": null,
   "metadata": {},
   "outputs": [],
   "source": [
    "from sagemaker.pytorch import PyTorch\n",
    "inputs = 's3://{}/{}/'.format(bucket, prefix)\n",
    "print(inputs)\n",
    "\n",
    "estimator = PyTorch(entry_point='train.py',\n",
    "                    source_dir='source',   # 会复制到 /opt/ml/code/ 里面\n",
    "                    role=role,\n",
    "                    framework_version='1.4.0',\n",
    "                    train_instance_count=1,\n",
    "                    train_instance_type='ml.p3.2xlarge',\n",
    "                    #train_instance_type='ml.m5.large',  # 如果没有开通GPU机型，可以使用 ml.m5.large\n",
    "                    base_job_name='ocr-train',\n",
    "                    train_volume_size=100,\n",
    "                    train_max_run=432000,\n",
    "                    output_path='s3://{}/{}/output'.format(bucket, prefix),   # 生成路径 /opt/ml/model/\n",
    "                    hyperparameters={\n",
    "                        'train_data': '/opt/ml/input/data/training/train',\n",
    "                        'valid_data': '/opt/ml/input/data/training/valid',\n",
    "                        'Transformation': 'TPS',\n",
    "                        'FeatureExtraction': 'ResNet',\n",
    "                        'SequenceModeling': 'BiLSTM',\n",
    "                        'Prediction': 'Attn',\n",
    "                        'select_data': 'db1-db2',\n",
    "                        'batch_ratio': '0.5-0.5',\n",
    "                        'batch_size': 16,   #GPU机型可以设置160, 具体根据选择的参数和机器的显存大小 做调整\n",
    "                        'num_iter': 100,\n",
    "                        'valInterval': 10,\n",
    "                        \n",
    "                    })\n",
    "estimator.fit({'training': inputs})"
   ]
  },
  {
   "cell_type": "code",
   "execution_count": null,
   "metadata": {},
   "outputs": [],
   "source": []
  }
 ],
 "metadata": {
  "kernelspec": {
   "display_name": "conda_pytorch_p36",
   "language": "python",
   "name": "conda_pytorch_p36"
  },
  "language_info": {
   "codemirror_mode": {
    "name": "ipython",
    "version": 3
   },
   "file_extension": ".py",
   "mimetype": "text/x-python",
   "name": "python",
   "nbconvert_exporter": "python",
   "pygments_lexer": "ipython3",
   "version": "3.6.10"
  },
  "notice": "Copyright 2018 Amazon.com, Inc. or its affiliates. All Rights Reserved.  Licensed under the Apache License, Version 2.0 (the \"License\"). You may not use this file except in compliance with the License. A copy of the License is located at http://aws.amazon.com/apache2.0/ or in the \"license\" file accompanying this file. This file is distributed on an \"AS IS\" BASIS, WITHOUT WARRANTIES OR CONDITIONS OF ANY KIND, either express or implied. See the License for the specific language governing permissions and limitations under the License."
 },
 "nbformat": 4,
 "nbformat_minor": 4
}
